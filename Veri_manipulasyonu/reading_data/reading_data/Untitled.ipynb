{
 "cells": [
  {
   "cell_type": "markdown",
   "id": "1e10cf20-1533-41ac-9251-5072f8fbf777",
   "metadata": {},
   "source": [
    "# DIŞ KAYNAKLI VERİ OKUMAK"
   ]
  },
  {
   "cell_type": "code",
   "execution_count": 1,
   "id": "21f10282-1190-46a8-b326-35569c345e40",
   "metadata": {},
   "outputs": [],
   "source": [
    "import pandas as pd"
   ]
  },
  {
   "cell_type": "code",
   "execution_count": null,
   "id": "daadef7e-fc67-46f7-b45b-21f4840d8419",
   "metadata": {},
   "outputs": [],
   "source": []
  },
  {
   "cell_type": "code",
   "execution_count": null,
   "id": "dee1cf86-a43f-4d93-affc-2bed7035b772",
   "metadata": {},
   "outputs": [],
   "source": []
  }
 ],
 "metadata": {
  "kernelspec": {
   "display_name": "Python 3 (ipykernel)",
   "language": "python",
   "name": "python3"
  },
  "language_info": {
   "codemirror_mode": {
    "name": "ipython",
    "version": 3
   },
   "file_extension": ".py",
   "mimetype": "text/x-python",
   "name": "python",
   "nbconvert_exporter": "python",
   "pygments_lexer": "ipython3",
   "version": "3.9.12"
  }
 },
 "nbformat": 4,
 "nbformat_minor": 5
}
